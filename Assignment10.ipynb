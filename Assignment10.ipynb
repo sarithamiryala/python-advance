{
 "cells": [
  {
   "cell_type": "code",
   "execution_count": null,
   "id": "1c806f38",
   "metadata": {},
   "outputs": [],
   "source": [
    "Q1. What is the difference between __getattr__ and __getattribute__?"
   ]
  },
  {
   "cell_type": "code",
   "execution_count": null,
   "id": "233443db",
   "metadata": {},
   "outputs": [],
   "source": [
    "__getattr__() is used to retrieve an attributes from an instance. \n",
    "It captures every attempt to access an instance.\n",
    "\n",
    "__getattr__() is a built in function which is used as  the last resource when attribute is not found in an object."
   ]
  },
  {
   "cell_type": "code",
   "execution_count": null,
   "id": "8fafbdd5",
   "metadata": {},
   "outputs": [],
   "source": [
    "Q2. What is the difference between properties and descriptors?"
   ]
  },
  {
   "cell_type": "code",
   "execution_count": null,
   "id": "4a2c9441",
   "metadata": {},
   "outputs": [],
   "source": [
    "python descriptor are created to mange the attributes of different classes which use object as reference. \n",
    "descriptors are referred to as setter and getter.\n",
    "In descriptor we use three methods __getters__(), __setter__(), __delete__()\n",
    "\n",
    "properties: property() is the way to avoid formal getter and setter methods in your code."
   ]
  },
  {
   "cell_type": "code",
   "execution_count": null,
   "id": "fc327a7e",
   "metadata": {},
   "outputs": [],
   "source": [
    "Q3. What are the key differences in functionality between __getattr__ and __getattribute__, as well as\n",
    "properties and descriptors?"
   ]
  },
  {
   "cell_type": "code",
   "execution_count": null,
   "id": "3bd9b0e8",
   "metadata": {},
   "outputs": [],
   "source": [
    "__getattr__() is used to retrieve an attributes from an instance. \n",
    "\n",
    "__getattr__() is a built in function which is used as  the last resource when attribute is not found in an object.\n",
    "\n",
    "python descriptor are created to mange the attributes of different classes which use object as reference. \n",
    "descriptors are referred to as setter and getter.\n",
    "In descriptor we use three methods __getters__(), __setter__(), __delete__()\n",
    "\n",
    "properties: property() is the way to avoid formal getter and setter methods in your code."
   ]
  }
 ],
 "metadata": {
  "kernelspec": {
   "display_name": "Python 3 (ipykernel)",
   "language": "python",
   "name": "python3"
  },
  "language_info": {
   "codemirror_mode": {
    "name": "ipython",
    "version": 3
   },
   "file_extension": ".py",
   "mimetype": "text/x-python",
   "name": "python",
   "nbconvert_exporter": "python",
   "pygments_lexer": "ipython3",
   "version": "3.9.7"
  }
 },
 "nbformat": 4,
 "nbformat_minor": 5
}
