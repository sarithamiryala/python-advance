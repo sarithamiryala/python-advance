{
 "cells": [
  {
   "cell_type": "markdown",
   "id": "7b6069df",
   "metadata": {},
   "source": [
    "Q1. Which two operator overloading methods can you use in your classes to support iteration?"
   ]
  },
  {
   "cell_type": "code",
   "execution_count": null,
   "id": "83bc2f49",
   "metadata": {},
   "outputs": [],
   "source": [
    "__iter__ gives iteration of object\n",
    "__next__ next value "
   ]
  },
  {
   "cell_type": "markdown",
   "id": "64718f9c",
   "metadata": {},
   "source": [
    "Q2. In what contexts do the two operator overloading methods manage printing?"
   ]
  },
  {
   "cell_type": "code",
   "execution_count": 8,
   "id": "0495d0e5",
   "metadata": {},
   "outputs": [
    {
     "data": {
      "text/plain": [
       "22"
      ]
     },
     "execution_count": 8,
     "metadata": {},
     "output_type": "execute_result"
    }
   ],
   "source": [
    "x =10\n",
    "y =12\n",
    "x+y"
   ]
  },
  {
   "cell_type": "code",
   "execution_count": 9,
   "id": "47c5d043",
   "metadata": {},
   "outputs": [
    {
     "data": {
      "text/plain": [
       "22"
      ]
     },
     "execution_count": 9,
     "metadata": {},
     "output_type": "execute_result"
    }
   ],
   "source": [
    "x.__add__(y)"
   ]
  },
  {
   "cell_type": "markdown",
   "id": "fc932bba",
   "metadata": {},
   "source": [
    "Q3. In a class, how do you intercept slice operations?"
   ]
  },
  {
   "cell_type": "code",
   "execution_count": 6,
   "id": "ca94178e",
   "metadata": {},
   "outputs": [],
   "source": [
    "setslice()\n",
    "deleteslice()"
   ]
  },
  {
   "cell_type": "markdown",
   "id": "184f0f09",
   "metadata": {},
   "source": [
    "Q4. In a class, how do you capture in-place addition?"
   ]
  },
  {
   "cell_type": "code",
   "execution_count": null,
   "id": "21e5f12b",
   "metadata": {},
   "outputs": [],
   "source": [
    "iadd() method : this is the function is ussed to assign current values and add them"
   ]
  },
  {
   "cell_type": "markdown",
   "id": "d075a60a",
   "metadata": {},
   "source": [
    "Q5. When is it appropriate to use operator overloading?"
   ]
  },
  {
   "cell_type": "code",
   "execution_count": null,
   "id": "2e1cb3c7",
   "metadata": {},
   "outputs": [],
   "source": [
    "operator overloading is mostly useful when making a new class that falls into an existing Abstract Base Class "
   ]
  }
 ],
 "metadata": {
  "kernelspec": {
   "display_name": "Python 3 (ipykernel)",
   "language": "python",
   "name": "python3"
  },
  "language_info": {
   "codemirror_mode": {
    "name": "ipython",
    "version": 3
   },
   "file_extension": ".py",
   "mimetype": "text/x-python",
   "name": "python",
   "nbconvert_exporter": "python",
   "pygments_lexer": "ipython3",
   "version": "3.9.7"
  }
 },
 "nbformat": 4,
 "nbformat_minor": 5
}
