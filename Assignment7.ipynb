{
 "cells": [
  {
   "cell_type": "code",
   "execution_count": null,
   "id": "67f34cd6",
   "metadata": {},
   "outputs": [],
   "source": [
    "Q1. What is the purpose of the try statement?"
   ]
  },
  {
   "cell_type": "code",
   "execution_count": null,
   "id": "96974c53",
   "metadata": {},
   "outputs": [],
   "source": [
    "try statement allows you to define a block of code to be tested for errors while it is being executed.\n"
   ]
  },
  {
   "cell_type": "code",
   "execution_count": null,
   "id": "73e7d3f5",
   "metadata": {},
   "outputs": [],
   "source": [
    "Q2. What are the two most popular try statement variations?"
   ]
  },
  {
   "cell_type": "code",
   "execution_count": null,
   "id": "f6262c47",
   "metadata": {},
   "outputs": [],
   "source": [
    "try : \n",
    "    \n",
    "except:\n",
    "    \n",
    "finally\n",
    "\n",
    "try and catch"
   ]
  },
  {
   "cell_type": "code",
   "execution_count": null,
   "id": "171dded5",
   "metadata": {},
   "outputs": [],
   "source": [
    "Q3. What is the purpose of the raise statement?"
   ]
  },
  {
   "cell_type": "code",
   "execution_count": null,
   "id": "fe34cbb4",
   "metadata": {},
   "outputs": [],
   "source": [
    "raise: triggeres an exception manually using custom exceptions."
   ]
  },
  {
   "cell_type": "code",
   "execution_count": null,
   "id": "f94f83df",
   "metadata": {},
   "outputs": [],
   "source": [
    "Q4. What does the assert statement do, and what other statement is it like?"
   ]
  },
  {
   "cell_type": "code",
   "execution_count": null,
   "id": "d3581f66",
   "metadata": {},
   "outputs": [],
   "source": [
    "assert statement takes an expression and optional message.\n"
   ]
  },
  {
   "cell_type": "code",
   "execution_count": 2,
   "id": "78701066",
   "metadata": {},
   "outputs": [
    {
     "ename": "AssertionError",
     "evalue": "values above 10 is not allowed",
     "output_type": "error",
     "traceback": [
      "\u001b[1;31m---------------------------------------------------------------------------\u001b[0m",
      "\u001b[1;31mAssertionError\u001b[0m                            Traceback (most recent call last)",
      "\u001b[1;32m~\\AppData\\Local\\Temp/ipykernel_1572/1955364093.py\u001b[0m in \u001b[0;36m<module>\u001b[1;34m\u001b[0m\n\u001b[0;32m      1\u001b[0m \u001b[0mb\u001b[0m \u001b[1;33m=\u001b[0m \u001b[1;36m25\u001b[0m\u001b[1;33m\u001b[0m\u001b[1;33m\u001b[0m\u001b[0m\n\u001b[0;32m      2\u001b[0m \u001b[1;32mfor\u001b[0m \u001b[0mi\u001b[0m \u001b[1;32min\u001b[0m \u001b[0mrange\u001b[0m\u001b[1;33m(\u001b[0m\u001b[0mb\u001b[0m\u001b[1;33m)\u001b[0m\u001b[1;33m:\u001b[0m\u001b[1;33m\u001b[0m\u001b[1;33m\u001b[0m\u001b[0m\n\u001b[1;32m----> 3\u001b[1;33m     \u001b[1;32massert\u001b[0m \u001b[0mi\u001b[0m\u001b[1;33m>\u001b[0m \u001b[1;36m10\u001b[0m\u001b[1;33m,\u001b[0m \u001b[1;34m'values above 10 is not allowed'\u001b[0m\u001b[1;33m\u001b[0m\u001b[1;33m\u001b[0m\u001b[0m\n\u001b[0m\u001b[0;32m      4\u001b[0m     \u001b[0mprint\u001b[0m\u001b[1;33m(\u001b[0m\u001b[0mi\u001b[0m\u001b[1;33m,\u001b[0m\u001b[1;34m'is Ok'\u001b[0m\u001b[1;33m)\u001b[0m\u001b[1;33m\u001b[0m\u001b[1;33m\u001b[0m\u001b[0m\n",
      "\u001b[1;31mAssertionError\u001b[0m: values above 10 is not allowed"
     ]
    }
   ],
   "source": [
    "b = 25\n",
    "for i in range(b):\n",
    "    assert i> 10, 'values above 10 is not allowed'\n",
    "    print(i,'is Ok')"
   ]
  },
  {
   "cell_type": "code",
   "execution_count": null,
   "id": "ddc78cc0",
   "metadata": {},
   "outputs": [],
   "source": [
    "Q5. What is the purpose of the with/as argument, and what other statement is it like?"
   ]
  },
  {
   "cell_type": "code",
   "execution_count": null,
   "id": "09029c5e",
   "metadata": {},
   "outputs": [],
   "source": [
    "the with statement is used for resource management and exception handling."
   ]
  }
 ],
 "metadata": {
  "kernelspec": {
   "display_name": "Python 3 (ipykernel)",
   "language": "python",
   "name": "python3"
  },
  "language_info": {
   "codemirror_mode": {
    "name": "ipython",
    "version": 3
   },
   "file_extension": ".py",
   "mimetype": "text/x-python",
   "name": "python",
   "nbconvert_exporter": "python",
   "pygments_lexer": "ipython3",
   "version": "3.9.7"
  }
 },
 "nbformat": 4,
 "nbformat_minor": 5
}
