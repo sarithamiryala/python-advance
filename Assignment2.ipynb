{
 "cells": [
  {
   "cell_type": "code",
   "execution_count": null,
   "id": "50a51763",
   "metadata": {},
   "outputs": [],
   "source": [
    "Q1.What is the relationship between classes and modules?"
   ]
  },
  {
   "cell_type": "code",
   "execution_count": null,
   "id": "07ec8d92",
   "metadata": {},
   "outputs": [],
   "source": [
    "Classes is blueprint of objects which contains members like feilds and methods\n",
    "Modules is used to reuse a given piece of code inside another program"
   ]
  },
  {
   "cell_type": "code",
   "execution_count": null,
   "id": "393922e3",
   "metadata": {},
   "outputs": [],
   "source": [
    "Q2. How do you make instances and classes?"
   ]
  },
  {
   "cell_type": "code",
   "execution_count": 4,
   "id": "dfa4b847",
   "metadata": {},
   "outputs": [],
   "source": [
    "#defining class\n",
    "class test:\n",
    "    def __init__(self):\n",
    "        print('hello')"
   ]
  },
  {
   "cell_type": "code",
   "execution_count": 5,
   "id": "03be3447",
   "metadata": {},
   "outputs": [
    {
     "name": "stdout",
     "output_type": "stream",
     "text": [
      "hello\n"
     ]
    }
   ],
   "source": [
    "#instances of class\n",
    "inst = test()"
   ]
  },
  {
   "cell_type": "code",
   "execution_count": null,
   "id": "fe9ed054",
   "metadata": {},
   "outputs": [],
   "source": [
    "Q3. Where and how should be class attributes created?"
   ]
  },
  {
   "cell_type": "code",
   "execution_count": null,
   "id": "b997b9dd",
   "metadata": {},
   "outputs": [],
   "source": [
    "class add_num:\n",
    "    def __init__(self,a,b):\n",
    "        self.a = a   # attributes\n",
    "        self.b = b  #attributes "
   ]
  },
  {
   "cell_type": "code",
   "execution_count": null,
   "id": "65cc7f2b",
   "metadata": {},
   "outputs": [],
   "source": [
    "Q4. Where and how are instance attributes created?"
   ]
  },
  {
   "cell_type": "code",
   "execution_count": null,
   "id": "a0c968ce",
   "metadata": {},
   "outputs": [],
   "source": [
    "Instance Attributes are defined in the constructor.\n",
    "Defined inside the class and the word \"self\" is used to define them"
   ]
  },
  {
   "cell_type": "markdown",
   "id": "7d7a893e",
   "metadata": {},
   "source": [
    "Q5. What does the term &quot;self&quot; in a Python class mean?"
   ]
  },
  {
   "cell_type": "code",
   "execution_count": null,
   "id": "9fcadd6d",
   "metadata": {},
   "outputs": [],
   "source": [
    "self represent the instance of thge class. using \"self\" keyword we can access the attributes and methods of the class.  "
   ]
  },
  {
   "cell_type": "code",
   "execution_count": null,
   "id": "4e3ba614",
   "metadata": {},
   "outputs": [],
   "source": [
    "Q6. How does a Python class handle operator overloading?"
   ]
  },
  {
   "cell_type": "code",
   "execution_count": null,
   "id": "29a2cd73",
   "metadata": {},
   "outputs": [],
   "source": [
    "python operators work for built in classes but same operator behaves differently for different types. for example + operator behaves as arithemtic addition for numeric values of inputs  and acts as concatenation for string inputs"
   ]
  },
  {
   "cell_type": "code",
   "execution_count": null,
   "id": "2c72e89e",
   "metadata": {},
   "outputs": [],
   "source": [
    "Q7. When do you consider allowing operator overloading of your classes?"
   ]
  },
  {
   "cell_type": "code",
   "execution_count": null,
   "id": "6daf30e9",
   "metadata": {},
   "outputs": [],
   "source": [
    " operator overloading means giving extended meaning beyond their predefined operational meaning.\n",
    "  Eg : + means adds numbers and also concatenate two strings "
   ]
  },
  {
   "cell_type": "code",
   "execution_count": null,
   "id": "4ddfe2d1",
   "metadata": {},
   "outputs": [],
   "source": [
    "Q8. What is the most popular form of operator overloading?"
   ]
  },
  {
   "cell_type": "code",
   "execution_count": null,
   "id": "40ff9bd4",
   "metadata": {},
   "outputs": [],
   "source": [
    "very popular example of operator overloading is Addition\n",
    "eg : 2 + 3 = 5\n",
    "     \"operator\" + \"overloading\" = \" operatoroverloading\""
   ]
  },
  {
   "cell_type": "code",
   "execution_count": null,
   "id": "1f1759e7",
   "metadata": {},
   "outputs": [],
   "source": [
    "Q9. What are the two most important concepts to grasp in order to comprehend Python OOP code?"
   ]
  },
  {
   "cell_type": "code",
   "execution_count": null,
   "id": "37f9f05a",
   "metadata": {},
   "outputs": [],
   "source": [
    "The two important concepts to grasp oops are classes and objects."
   ]
  }
 ],
 "metadata": {
  "kernelspec": {
   "display_name": "Python 3 (ipykernel)",
   "language": "python",
   "name": "python3"
  },
  "language_info": {
   "codemirror_mode": {
    "name": "ipython",
    "version": 3
   },
   "file_extension": ".py",
   "mimetype": "text/x-python",
   "name": "python",
   "nbconvert_exporter": "python",
   "pygments_lexer": "ipython3",
   "version": "3.9.7"
  }
 },
 "nbformat": 4,
 "nbformat_minor": 5
}
