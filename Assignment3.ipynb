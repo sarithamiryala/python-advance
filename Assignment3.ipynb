{
 "cells": [
  {
   "cell_type": "markdown",
   "id": "6b921fc4",
   "metadata": {},
   "source": [
    "1. What is the concept of an abstract superclass?"
   ]
  },
  {
   "cell_type": "code",
   "execution_count": null,
   "id": "6e56a339",
   "metadata": {},
   "outputs": [],
   "source": [
    "abstract superclass is one way to provide reusable code. you can extend abstract class and inherit the code."
   ]
  },
  {
   "cell_type": "markdown",
   "id": "ce344707",
   "metadata": {},
   "source": [
    "2. What happens when a class statement&#39;s top level contains a basic assignment statement?"
   ]
  },
  {
   "cell_type": "code",
   "execution_count": null,
   "id": "74e74aa8",
   "metadata": {},
   "outputs": [],
   "source": [
    "python creates a variable name the first time when they are assigned a value.\n",
    "name must be assigned before referenced\n",
    "Assignment creates an object references instead of copying the ojects"
   ]
  },
  {
   "cell_type": "raw",
   "id": "5fa42bd7",
   "metadata": {},
   "source": [
    "3. Why does a class need to manually call a superclass&#39;s __init__ method?"
   ]
  },
  {
   "cell_type": "code",
   "execution_count": null,
   "id": "6ff35cb8",
   "metadata": {},
   "outputs": [],
   "source": [
    "The main reason for always calling base class __init__ is that base may typically create member variable and initialize them to defaults. \n",
    "if you don't call base class init none of the code would be executed and end up with base class that has not member."
   ]
  },
  {
   "cell_type": "markdown",
   "id": "cecc31ac",
   "metadata": {},
   "source": [
    "4. How can you augment, instead of completely replacing, an inherited method?"
   ]
  },
  {
   "cell_type": "code",
   "execution_count": null,
   "id": "90090694",
   "metadata": {},
   "outputs": [],
   "source": [
    "Multiple interitance can be used instead of completely replacing an inherited method.\n",
    "    "
   ]
  },
  {
   "cell_type": "code",
   "execution_count": 1,
   "id": "a64d268e",
   "metadata": {},
   "outputs": [
    {
     "name": "stdout",
     "output_type": "stream",
     "text": [
      "(<class '__main__.Child'>, <class '__main__.Parent1'>, <class '__main__.Parent2'>, <class '__main__.Ancestor'>, <class 'object'>)\n"
     ]
    }
   ],
   "source": [
    "class Ancestor:\n",
    "    def rewind(self):\n",
    "        print(\"Ancestor: rewind\")\n",
    "\n",
    "\n",
    "class Parent1(Ancestor):\n",
    "    def open(self):\n",
    "        print(\"Parent1: open\")\n",
    "\n",
    "\n",
    "class Parent2(Ancestor):\n",
    "    def open(self):\n",
    "        print(\"Parent2: open\")\n",
    "\n",
    "    def close(self):\n",
    "        print(\"Parent2: close\")\n",
    "\n",
    "    def flush(self):\n",
    "        print(\"Parent2: flush\")\n",
    "\n",
    "\n",
    "class Child(Parent1, Parent2):\n",
    "    def flush(self):\n",
    "        print(\"Child: flush\")\n",
    "\n",
    "\n",
    "print(Child.__mro__)"
   ]
  },
  {
   "cell_type": "code",
   "execution_count": 2,
   "id": "a0a68c6b",
   "metadata": {},
   "outputs": [
    {
     "name": "stdout",
     "output_type": "stream",
     "text": [
      "Ancestor: rewind\n",
      "Parent1: open\n",
      "Parent2: close\n",
      "Child: flush\n"
     ]
    }
   ],
   "source": [
    "c = Child()\n",
    "c.rewind()\n",
    "c.open()\n",
    "c.close()\n",
    "c.flush()"
   ]
  },
  {
   "cell_type": "markdown",
   "id": "424bc7f6",
   "metadata": {},
   "source": [
    "5. How is the local scope of a class different from that of a function?"
   ]
  },
  {
   "cell_type": "code",
   "execution_count": null,
   "id": "9f7e9aab",
   "metadata": {},
   "outputs": [],
   "source": [
    "inside the  function if you define the variable inside the function then the scope of local variable is only inside the function.\n",
    "and variables outside the function as global variabeles."
   ]
  }
 ],
 "metadata": {
  "kernelspec": {
   "display_name": "Python 3 (ipykernel)",
   "language": "python",
   "name": "python3"
  },
  "language_info": {
   "codemirror_mode": {
    "name": "ipython",
    "version": 3
   },
   "file_extension": ".py",
   "mimetype": "text/x-python",
   "name": "python",
   "nbconvert_exporter": "python",
   "pygments_lexer": "ipython3",
   "version": "3.9.7"
  }
 },
 "nbformat": 4,
 "nbformat_minor": 5
}
