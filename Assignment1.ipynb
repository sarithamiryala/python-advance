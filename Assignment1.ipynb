{
 "cells": [
  {
   "cell_type": "markdown",
   "id": "c10ca0d6",
   "metadata": {},
   "source": [
    "Q1.What is the purpose of Python&#39;s OOP?"
   ]
  },
  {
   "cell_type": "markdown",
   "id": "564db348",
   "metadata": {},
   "source": [
    "The concept of OOPs is used to bind the data and the functions that work on that togeter as a single unit so that no other part of data can acces this data"
   ]
  },
  {
   "cell_type": "markdown",
   "id": "b3cab9ba",
   "metadata": {},
   "source": [
    "Q2. Where does an inheritance search look for an attribute?"
   ]
  },
  {
   "cell_type": "markdown",
   "id": "f51c8d06",
   "metadata": {},
   "source": [
    "inheritance search is just a search of tree from bottom to top looking for lowest occurence of attribute name"
   ]
  },
  {
   "cell_type": "markdown",
   "id": "61e9f72a",
   "metadata": {},
   "source": [
    "Q3. How do you distinguish between a class object and an instance object?"
   ]
  },
  {
   "cell_type": "markdown",
   "id": "f218cc99",
   "metadata": {},
   "source": [
    "class\n",
    "\n",
    "\n",
    "class is logical entity\n",
    "\n",
    "\n",
    "class is template for creating an object in program\n",
    "\n",
    "\n",
    "A class does not allocate memory when it is created \n",
    "\n",
    "\n",
    "\n",
    "object\n",
    "\n",
    "\n",
    "object is physical entity\n",
    "\n",
    "\n",
    "object is an instance of a class\n",
    "\n",
    "\n",
    "objects allocate memory when created"
   ]
  },
  {
   "cell_type": "markdown",
   "id": "1c9db5f6",
   "metadata": {},
   "source": [
    "Q4. What makes the first argument in a class’s method function special?"
   ]
  },
  {
   "cell_type": "markdown",
   "id": "8f59b6c5",
   "metadata": {},
   "source": [
    "self is the first argument to be passed in constructor and Instance method."
   ]
  },
  {
   "cell_type": "markdown",
   "id": "463b62a5",
   "metadata": {},
   "source": [
    "Q5. What is the purpose of the __init__ method?"
   ]
  },
  {
   "cell_type": "markdown",
   "id": "546ab429",
   "metadata": {},
   "source": [
    "__init__()\n",
    "\n",
    "\n",
    "is intialization method which provides data to all methods within the class"
   ]
  },
  {
   "cell_type": "markdown",
   "id": "45cdabc4",
   "metadata": {},
   "source": [
    "Q6. What is the process for creating a class instance?"
   ]
  },
  {
   "cell_type": "markdown",
   "id": "c676b9b4",
   "metadata": {},
   "source": [
    "class abc:\n",
    "    def __init__(self,a,b):\n",
    "        self.a = a\n",
    "        self.b = b\n",
    "class instance\n",
    "\n",
    "istance is an object that belong to a class\n",
    "\n",
    "for eg:\n",
    "    tuple is class\n",
    "    and if we create an tuple it is called instance of tuple"
   ]
  },
  {
   "cell_type": "markdown",
   "id": "c2a88cac",
   "metadata": {},
   "source": [
    "Q7. What is the process for creating a class?\n",
    "\n"
   ]
  },
  {
   "cell_type": "markdown",
   "id": "5a05477d",
   "metadata": {},
   "source": [
    "a class is create by using the keyword \n",
    "\n",
    "class classname:\n",
    "\n",
    "\n",
    "    def __init__():\n",
    "        "
   ]
  },
  {
   "cell_type": "markdown",
   "id": "35b2408e",
   "metadata": {},
   "source": [
    "Q8. How would you define the superclasses of a class?"
   ]
  },
  {
   "cell_type": "markdown",
   "id": "49243dda",
   "metadata": {},
   "source": [
    "a class from which a class inherits is called parent class or superclass and the class which inherits is called subclass or child class"
   ]
  },
  {
   "cell_type": "code",
   "execution_count": null,
   "id": "cd0e2dc4",
   "metadata": {},
   "outputs": [],
   "source": []
  }
 ],
 "metadata": {
  "kernelspec": {
   "display_name": "Python 3 (ipykernel)",
   "language": "python",
   "name": "python3"
  },
  "language_info": {
   "codemirror_mode": {
    "name": "ipython",
    "version": 3
   },
   "file_extension": ".py",
   "mimetype": "text/x-python",
   "name": "python",
   "nbconvert_exporter": "python",
   "pygments_lexer": "ipython3",
   "version": "3.9.7"
  }
 },
 "nbformat": 4,
 "nbformat_minor": 5
}
