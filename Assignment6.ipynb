{
 "cells": [
  {
   "cell_type": "code",
   "execution_count": null,
   "id": "76749077",
   "metadata": {},
   "outputs": [],
   "source": [
    "Q1. Describe three applications for exception processing."
   ]
  },
  {
   "cell_type": "code",
   "execution_count": null,
   "id": "a01aeb25",
   "metadata": {},
   "outputs": [],
   "source": [
    "1. Exception makes sure that flow of the program doesn't break when an exception occurs.\n",
    "2. It clarifies the code and enchances readability .\n",
    "3. Exception help you to remind yourself of what the program expects."
   ]
  },
  {
   "cell_type": "markdown",
   "id": "9353e2f2",
   "metadata": {},
   "source": [
    "Q2. What happens if you don&#39;t do something extra to treat an exception?"
   ]
  },
  {
   "cell_type": "code",
   "execution_count": null,
   "id": "da35b75d",
   "metadata": {},
   "outputs": [],
   "source": [
    "The program will terimates abruptly and the code after the exception will not be executed."
   ]
  },
  {
   "cell_type": "code",
   "execution_count": null,
   "id": "57b7e5ff",
   "metadata": {},
   "outputs": [],
   "source": [
    "Q3. What are your options for recovering from an exception in your script?"
   ]
  },
  {
   "cell_type": "code",
   "execution_count": null,
   "id": "0167048e",
   "metadata": {},
   "outputs": [],
   "source": [
    "1. Single try statement can have multiple except statement.\n",
    "2. except clause can be used."
   ]
  },
  {
   "cell_type": "code",
   "execution_count": null,
   "id": "c3a0d947",
   "metadata": {},
   "outputs": [],
   "source": [
    "Q4. Describe two methods for triggering exceptions in your script."
   ]
  },
  {
   "cell_type": "code",
   "execution_count": null,
   "id": "4822fed7",
   "metadata": {},
   "outputs": [],
   "source": [
    "try and catch : This method catches the errors in the program.\n",
    "raise: triggeres an exception manually using custom exceptions."
   ]
  },
  {
   "cell_type": "code",
   "execution_count": null,
   "id": "e5b3576c",
   "metadata": {},
   "outputs": [],
   "source": [
    "Q5. Identify two methods for specifying actions to be executed at termination time, regardless of\n",
    "whether or not an exception exists."
   ]
  },
  {
   "cell_type": "code",
   "execution_count": null,
   "id": "5ba32059",
   "metadata": {},
   "outputs": [],
   "source": [
    "try\n",
    "catch\n",
    "finally\n",
    "raise "
   ]
  }
 ],
 "metadata": {
  "kernelspec": {
   "display_name": "Python 3 (ipykernel)",
   "language": "python",
   "name": "python3"
  },
  "language_info": {
   "codemirror_mode": {
    "name": "ipython",
    "version": 3
   },
   "file_extension": ".py",
   "mimetype": "text/x-python",
   "name": "python",
   "nbconvert_exporter": "python",
   "pygments_lexer": "ipython3",
   "version": "3.9.7"
  }
 },
 "nbformat": 4,
 "nbformat_minor": 5
}
