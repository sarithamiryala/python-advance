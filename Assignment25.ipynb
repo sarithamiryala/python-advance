{
 "cells": [
  {
   "cell_type": "markdown",
   "id": "1854e470",
   "metadata": {},
   "source": [
    "Q1. What is the distinction between a numpy array and a pandas data frame? Is there a way to\n",
    "convert between the two if there is?"
   ]
  },
  {
   "cell_type": "markdown",
   "id": "a5b6f20f",
   "metadata": {},
   "source": [
    "When complex mathematical operation has to be performed Numpy is used.\n",
    "Pandas Dataframe is used for data preprocessing like grouping operations,row and column operations and creation of matplotlib plots."
   ]
  },
  {
   "cell_type": "markdown",
   "id": "bbdf17fb",
   "metadata": {},
   "source": [
    "Q2. What can go wrong when an user enters in a stock-ticker symbol, and how do you handle it?"
   ]
  },
  {
   "cell_type": "markdown",
   "id": "dca93cc6",
   "metadata": {},
   "source": [
    "Stock ticker symbol is the grouping of a specific set of characters.Ticker\n",
    "symbol helps investors to identify companies when they are doing research or making\n",
    "trade.Ticker symbols are not static they can change if a company changes its name or delists or a company\n",
    "merges with other company"
   ]
  },
  {
   "cell_type": "markdown",
   "id": "7db8a841",
   "metadata": {},
   "source": [
    "Q3. Identify some of the plotting techniques that are used to produce a stock-market chart."
   ]
  },
  {
   "cell_type": "markdown",
   "id": "2dbedf53",
   "metadata": {},
   "source": [
    "candle stick chart\n",
    "bar chart\n",
    "line graph"
   ]
  },
  {
   "cell_type": "markdown",
   "id": "60b6f51d",
   "metadata": {},
   "source": [
    "Q4. Why is it essential to print a legend on a stock market chart?"
   ]
  },
  {
   "cell_type": "markdown",
   "id": "40e45a7b",
   "metadata": {},
   "source": [
    "the legend displays information about the points that are currently hovered over or, if none are hovered over,about the last points shown on the plot."
   ]
  },
  {
   "cell_type": "markdown",
   "id": "f1a0dfdd",
   "metadata": {},
   "source": [
    "Q5. What is the best way to limit the length of a pandas data frame to less than a year?"
   ]
  },
  {
   "cell_type": "markdown",
   "id": "cf03c8a4",
   "metadata": {},
   "source": [
    "1.To read the columns that we actually require.\n",
    "2.To convert any object columns that contain some categorical data to the category data type.\n",
    "This reduces the space drastically, as the category data stores only the categorical values internally, but the object data stores each value in the memory."
   ]
  },
  {
   "cell_type": "markdown",
   "id": "8bc24ddd",
   "metadata": {},
   "source": [
    "Q6. What is the definition of a 180-day moving average?"
   ]
  },
  {
   "cell_type": "markdown",
   "id": "176fe225",
   "metadata": {},
   "source": [
    "A Simple Moving Average is adding up closing prices for a certain time period and then dividing the total by the number of days. The time period used is different and varies from trader to trader depending on their short-term or long-term investment strategy."
   ]
  },
  {
   "cell_type": "code",
   "execution_count": null,
   "id": "025da421",
   "metadata": {},
   "outputs": [],
   "source": []
  }
 ],
 "metadata": {
  "kernelspec": {
   "display_name": "Python 3 (ipykernel)",
   "language": "python",
   "name": "python3"
  },
  "language_info": {
   "codemirror_mode": {
    "name": "ipython",
    "version": 3
   },
   "file_extension": ".py",
   "mimetype": "text/x-python",
   "name": "python",
   "nbconvert_exporter": "python",
   "pygments_lexer": "ipython3",
   "version": "3.9.7"
  }
 },
 "nbformat": 4,
 "nbformat_minor": 5
}
