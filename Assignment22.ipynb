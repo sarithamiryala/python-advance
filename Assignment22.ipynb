{
 "cells": [
  {
   "cell_type": "markdown",
   "id": "212f588a",
   "metadata": {},
   "source": [
    "Q1. What are the benefits of the built-in array package, if any?"
   ]
  },
  {
   "cell_type": "markdown",
   "id": "cb545e8a",
   "metadata": {},
   "source": [
    "Arrays are sequence types and behave very much like lists, \n",
    "except that the type of objects stored in them is constrained. \n",
    "Built-in array module defines an object type which can efficiently \n",
    "represent an array of basic values: characters, integers,\n",
    "floating point numbers. \n",
    "built in array seems to be quite unique.\n",
    "functions of array are\n",
    "\n",
    "Get the typecode\n",
    "\n",
    "get size of array item\n",
    "\n",
    "append &extend  \n",
    "\n",
    "array to list\n",
    "\n",
    "manipulating the index\n",
    "\n",
    "count no of occurences"
   ]
  },
  {
   "cell_type": "markdown",
   "id": "5eac6fa9",
   "metadata": {},
   "source": [
    "Q2. What are some of the array package&#39;s limitations?"
   ]
  },
  {
   "cell_type": "markdown",
   "id": "d73388a6",
   "metadata": {},
   "source": [
    "An array which is formed will be homogeneous.\n",
    "That is, in an integer array only integer values can be stored,\n",
    "while in a float array only floating value and \n",
    "character array can have only characters.\n",
    "Thus, no array can have values of two data types."
   ]
  },
  {
   "cell_type": "markdown",
   "id": "0fe0ba3a",
   "metadata": {},
   "source": [
    "Q3. Describe the main differences between the array and numpy packages."
   ]
  },
  {
   "cell_type": "markdown",
   "id": "256ec54e",
   "metadata": {},
   "source": [
    "There are several important differences between NumPy arrays \n",
    "and the standard Python sequences: \n",
    "NumPy arrays have a fixed size at creation, unlike Python lists (which can grow dynamically). \n",
    "\n",
    "Changing the size of an ndarray will create a new array and \n",
    "delete the original."
   ]
  },
  {
   "cell_type": "markdown",
   "id": "ad33fa81",
   "metadata": {},
   "source": [
    "Q4. Explain the distinctions between the empty, ones, and zeros functions."
   ]
  },
  {
   "cell_type": "markdown",
   "id": "3913b8d7",
   "metadata": {},
   "source": [
    "An empty() function is a function that does not contain any statement witinit body.\n",
    "zeros() and ones() are numpy functions to create two diffrent arrays.\n",
    "zeros() function is used to create an array of specified shape and all the values are initialized to zeros.\n",
    "ones() function is used to create an array of specified shape and all the values are initialized to ones."
   ]
  },
  {
   "cell_type": "markdown",
   "id": "b493419f",
   "metadata": {},
   "source": [
    "Q5. In the fromfunction function, which is used to construct new arrays, what is the role of the callable\n",
    "argument?"
   ]
  },
  {
   "cell_type": "markdown",
   "id": "8de3d36b",
   "metadata": {},
   "source": [
    "fromfunction() function construct an array by executing\n",
    "a function over each coordinate and the resulting array, \n",
    "therefore, has a value fn(x, y, z) at coordinate (x, y, z).\n",
    "Parameters : function : [callable] \n",
    "The function is called with N parameters, where N is the rank of shape."
   ]
  },
  {
   "cell_type": "markdown",
   "id": "c71fc2a4",
   "metadata": {},
   "source": [
    "Q6. What happens when a numpy array is combined with a single-value operand (a scalar, such as\n",
    "an int or a floating-point value) through addition, as in the expression A + n?"
   ]
  },
  {
   "cell_type": "code",
   "execution_count": 2,
   "id": "00b73d92",
   "metadata": {},
   "outputs": [],
   "source": [
    "import numpy as np\n",
    "data1 = [6, 7.5, 8, 0, 1]\n",
    "\n",
    "arr1 = np.array(data1)"
   ]
  },
  {
   "cell_type": "code",
   "execution_count": 3,
   "id": "117f75ab",
   "metadata": {},
   "outputs": [
    {
     "data": {
      "text/plain": [
       "array([11. , 12.5, 13. ,  5. ,  6. ])"
      ]
     },
     "execution_count": 3,
     "metadata": {},
     "output_type": "execute_result"
    }
   ],
   "source": [
    "arr1+5"
   ]
  },
  {
   "cell_type": "code",
   "execution_count": null,
   "id": "7b341892",
   "metadata": {},
   "outputs": [],
   "source": [
    "addition is done for each variable."
   ]
  },
  {
   "cell_type": "code",
   "execution_count": null,
   "id": "c8f1a2c1",
   "metadata": {},
   "outputs": [],
   "source": [
    "Q7. Can array-to-scalar operations use combined operation-assign operators (such as += or *=)?\n",
    "What is the outcome?"
   ]
  },
  {
   "cell_type": "code",
   "execution_count": 13,
   "id": "8dd0b40b",
   "metadata": {},
   "outputs": [
    {
     "name": "stdout",
     "output_type": "stream",
     "text": [
      "[3 4 5]\n"
     ]
    }
   ],
   "source": [
    "import numpy as np\n",
    "\n",
    "a = np.array([1, 2, 3])\n",
    "b = a + 2\n",
    "print(b)"
   ]
  },
  {
   "cell_type": "code",
   "execution_count": 14,
   "id": "6d542b5f",
   "metadata": {},
   "outputs": [
    {
     "name": "stdout",
     "output_type": "stream",
     "text": [
      "[3 6 9]\n"
     ]
    }
   ],
   "source": [
    "a = np.array([1,2,3])\n",
    "b = 3*a\n",
    "print(b)"
   ]
  },
  {
   "cell_type": "code",
   "execution_count": null,
   "id": "c58218a2",
   "metadata": {},
   "outputs": [],
   "source": [
    "Q8. Does a numpy array contain fixed-length strings?\n",
    "What happens if you allocate a longer string to\n",
    "one of these arrays?"
   ]
  },
  {
   "cell_type": "markdown",
   "id": "f4fa3019",
   "metadata": {},
   "source": [
    "yes numpy array contain fixed length strings. \n",
    "if you allocate a longer string to  one of these arrays ndarray will create a new array and \n",
    "delete the original."
   ]
  },
  {
   "cell_type": "markdown",
   "id": "7f470759",
   "metadata": {},
   "source": [
    "Q9. What happens when you combine two numpy arrays using an operation like addition (+) or\n",
    "multiplication (*)? What are the conditions for combining two numpy arrays?"
   ]
  },
  {
   "cell_type": "markdown",
   "id": "942b47ee",
   "metadata": {},
   "source": [
    "two numpy array operations like add(), subtract(), multiply() and divison can be performed provided either have same shape"
   ]
  },
  {
   "cell_type": "code",
   "execution_count": 3,
   "id": "c9342520",
   "metadata": {},
   "outputs": [],
   "source": [
    "import numpy as np\n",
    "a = np.array([1, 2, 3, 4])\n",
    "b = np.array([4, 2, 2, 4])"
   ]
  },
  {
   "cell_type": "code",
   "execution_count": 6,
   "id": "bf3f4584",
   "metadata": {},
   "outputs": [
    {
     "data": {
      "text/plain": [
       "array([5, 4, 5, 8])"
      ]
     },
     "execution_count": 6,
     "metadata": {},
     "output_type": "execute_result"
    }
   ],
   "source": [
    "c = a+b\n",
    "c"
   ]
  },
  {
   "cell_type": "code",
   "execution_count": 8,
   "id": "254abe51",
   "metadata": {},
   "outputs": [
    {
     "data": {
      "text/plain": [
       "array([-3,  0,  1,  0])"
      ]
     },
     "execution_count": 8,
     "metadata": {},
     "output_type": "execute_result"
    }
   ],
   "source": [
    "d = a-b\n",
    "d"
   ]
  },
  {
   "cell_type": "code",
   "execution_count": 10,
   "id": "b1af8e8f",
   "metadata": {},
   "outputs": [
    {
     "data": {
      "text/plain": [
       "array([ 4,  4,  6, 16])"
      ]
     },
     "execution_count": 10,
     "metadata": {},
     "output_type": "execute_result"
    }
   ],
   "source": [
    "e = a*b\n",
    "e"
   ]
  },
  {
   "cell_type": "code",
   "execution_count": 11,
   "id": "4d76f85d",
   "metadata": {},
   "outputs": [],
   "source": [
    "# arrays of different shape\n",
    "a = np.array([1,2,3,4])\n",
    "b = np.array([1,2,3])\n"
   ]
  },
  {
   "cell_type": "code",
   "execution_count": 12,
   "id": "dc075511",
   "metadata": {},
   "outputs": [
    {
     "ename": "ValueError",
     "evalue": "operands could not be broadcast together with shapes (4,) (3,) ",
     "output_type": "error",
     "traceback": [
      "\u001b[1;31m---------------------------------------------------------------------------\u001b[0m",
      "\u001b[1;31mValueError\u001b[0m                                Traceback (most recent call last)",
      "\u001b[1;32m~\\AppData\\Local\\Temp/ipykernel_19580/3553919051.py\u001b[0m in \u001b[0;36m<module>\u001b[1;34m\u001b[0m\n\u001b[1;32m----> 1\u001b[1;33m \u001b[0ma\u001b[0m\u001b[1;33m+\u001b[0m\u001b[0mb\u001b[0m\u001b[1;33m\u001b[0m\u001b[1;33m\u001b[0m\u001b[0m\n\u001b[0m",
      "\u001b[1;31mValueError\u001b[0m: operands could not be broadcast together with shapes (4,) (3,) "
     ]
    }
   ],
   "source": [
    "a+b"
   ]
  },
  {
   "cell_type": "code",
   "execution_count": null,
   "id": "e0916d5c",
   "metadata": {},
   "outputs": [],
   "source": [
    "Q11. What are three different ways to get the standard deviation of a wide collection of data using\n",
    "both standard Python and its packages? Sort the three of them by how quickly they execute."
   ]
  },
  {
   "cell_type": "code",
   "execution_count": 15,
   "id": "3afa41cf",
   "metadata": {},
   "outputs": [],
   "source": [
    "import math\n",
    "import statistics\n",
    "import numpy as np\n",
    "import scipy.stats\n",
    "import pandas as pd"
   ]
  },
  {
   "cell_type": "code",
   "execution_count": 16,
   "id": "a3d80ea4",
   "metadata": {},
   "outputs": [],
   "source": [
    " x = [8.0, 1, 2.5, 4, 28.0]"
   ]
  },
  {
   "cell_type": "code",
   "execution_count": 17,
   "id": "98d71111",
   "metadata": {},
   "outputs": [
    {
     "data": {
      "text/plain": [
       "123.19999999999999"
      ]
     },
     "execution_count": 17,
     "metadata": {},
     "output_type": "execute_result"
    }
   ],
   "source": [
    "n = len(x)\n",
    "mean_ = sum(x) / n\n",
    "var_ = sum((item - mean_)**2 for item in x) / (n - 1)\n",
    "var_"
   ]
  },
  {
   "cell_type": "code",
   "execution_count": 18,
   "id": "d16420ec",
   "metadata": {},
   "outputs": [
    {
     "data": {
      "text/plain": [
       "11.099549540409285"
      ]
     },
     "execution_count": 18,
     "metadata": {},
     "output_type": "execute_result"
    }
   ],
   "source": [
    "#Standard deviation\n",
    "std_ = var_ ** 0.5\n",
    "std_"
   ]
  },
  {
   "cell_type": "code",
   "execution_count": 19,
   "id": "23ef4e65",
   "metadata": {},
   "outputs": [
    {
     "data": {
      "text/plain": [
       "11.099549540409287"
      ]
     },
     "execution_count": 19,
     "metadata": {},
     "output_type": "execute_result"
    }
   ],
   "source": [
    " std_ = statistics.stdev(x)\n",
    " std_\n"
   ]
  },
  {
   "cell_type": "code",
   "execution_count": null,
   "id": "a27cf2e5",
   "metadata": {},
   "outputs": [],
   "source": [
    "Q12. What is the dimensionality of a Boolean mask-generated array?"
   ]
  },
  {
   "cell_type": "code",
   "execution_count": 1,
   "id": "4d8759ef",
   "metadata": {},
   "outputs": [],
   "source": [
    "import numpy as np\n",
    "import numpy.ma as ma"
   ]
  },
  {
   "cell_type": "code",
   "execution_count": 2,
   "id": "3e75bfc7",
   "metadata": {},
   "outputs": [
    {
     "name": "stdout",
     "output_type": "stream",
     "text": [
      "Array...\n",
      " [0. 0. 0. 0. 0. 0. 0.]\n"
     ]
    }
   ],
   "source": [
    "arr = np.zeros(7)\n",
    "print(\"Array...\\n\", arr)"
   ]
  },
  {
   "cell_type": "code",
   "execution_count": 3,
   "id": "d0c753a7",
   "metadata": {},
   "outputs": [
    {
     "name": "stdout",
     "output_type": "stream",
     "text": [
      "\n",
      "Masked Array...\n",
      " False\n"
     ]
    }
   ],
   "source": [
    "print(\"\\nMasked Array...\\n\", ma.make_mask(arr))"
   ]
  },
  {
   "cell_type": "code",
   "execution_count": 4,
   "id": "fcbe4264",
   "metadata": {},
   "outputs": [
    {
     "name": "stdout",
     "output_type": "stream",
     "text": [
      "\n",
      "Array Dimensions...\n",
      " 1\n"
     ]
    }
   ],
   "source": [
    "print(\"\\nArray Dimensions...\\n\",arr.ndim)"
   ]
  },
  {
   "cell_type": "code",
   "execution_count": null,
   "id": "488812be",
   "metadata": {},
   "outputs": [],
   "source": []
  }
 ],
 "metadata": {
  "kernelspec": {
   "display_name": "Python 3 (ipykernel)",
   "language": "python",
   "name": "python3"
  },
  "language_info": {
   "codemirror_mode": {
    "name": "ipython",
    "version": 3
   },
   "file_extension": ".py",
   "mimetype": "text/x-python",
   "name": "python",
   "nbconvert_exporter": "python",
   "pygments_lexer": "ipython3",
   "version": "3.9.7"
  }
 },
 "nbformat": 4,
 "nbformat_minor": 5
}
