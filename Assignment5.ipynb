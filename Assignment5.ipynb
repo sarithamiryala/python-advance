{
 "cells": [
  {
   "cell_type": "code",
   "execution_count": null,
   "id": "bfc71ff2",
   "metadata": {},
   "outputs": [],
   "source": [
    "Q1. What is the meaning of multiple inheritance?"
   ]
  },
  {
   "cell_type": "code",
   "execution_count": null,
   "id": "f72fc89f",
   "metadata": {},
   "outputs": [],
   "source": [
    "In multiple inheritance features are inherited from more than one parent class"
   ]
  },
  {
   "cell_type": "code",
   "execution_count": null,
   "id": "d14468da",
   "metadata": {},
   "outputs": [],
   "source": [
    "class parent1:\n",
    "    def p1():\n",
    "        print('parent1 class')\n",
    "\n",
    "class parent2:\n",
    "    def p2:\n",
    "        print('Parent2 class')\n",
    "\n",
    "class child(parent1, parent2):\n",
    "    print('Child class')"
   ]
  },
  {
   "cell_type": "code",
   "execution_count": null,
   "id": "28e1c93b",
   "metadata": {},
   "outputs": [],
   "source": [
    "Q2. What is the concept of delegation?"
   ]
  },
  {
   "cell_type": "code",
   "execution_count": null,
   "id": "c1179aa1",
   "metadata": {},
   "outputs": [],
   "source": [
    "delegation is a design pattern that allows object composition to achieve the same code reuse as inheritance"
   ]
  },
  {
   "cell_type": "code",
   "execution_count": null,
   "id": "c68298af",
   "metadata": {},
   "outputs": [],
   "source": [
    "Q3. What is the concept of composition?"
   ]
  },
  {
   "cell_type": "code",
   "execution_count": null,
   "id": "50292e66",
   "metadata": {},
   "outputs": [],
   "source": [
    "In python, the composition allows you to reuse the implementation of the compenent class "
   ]
  },
  {
   "cell_type": "code",
   "execution_count": null,
   "id": "5f51d781",
   "metadata": {},
   "outputs": [],
   "source": [
    "Q4. What are bound methods and how do we use them?"
   ]
  },
  {
   "cell_type": "code",
   "execution_count": null,
   "id": "b64bfe64",
   "metadata": {},
   "outputs": [],
   "source": [
    "A bound method is the one which dependent  on the instance of class as the first argument."
   ]
  },
  {
   "cell_type": "code",
   "execution_count": null,
   "id": "79a24470",
   "metadata": {},
   "outputs": [],
   "source": [
    "Q5. What is the purpose of pseudoprivate attributes?"
   ]
  },
  {
   "cell_type": "code",
   "execution_count": null,
   "id": "a2619136",
   "metadata": {},
   "outputs": [],
   "source": [
    "pseudoprivate attributes are also useful in large tools both to avoid in introducing new method names that might accidentlly hide definitions elsewhere in the class tree."
   ]
  }
 ],
 "metadata": {
  "kernelspec": {
   "display_name": "Python 3 (ipykernel)",
   "language": "python",
   "name": "python3"
  },
  "language_info": {
   "codemirror_mode": {
    "name": "ipython",
    "version": 3
   },
   "file_extension": ".py",
   "mimetype": "text/x-python",
   "name": "python",
   "nbconvert_exporter": "python",
   "pygments_lexer": "ipython3",
   "version": "3.9.7"
  }
 },
 "nbformat": 4,
 "nbformat_minor": 5
}
