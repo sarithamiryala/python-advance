{
 "cells": [
  {
   "cell_type": "markdown",
   "id": "2efb5327",
   "metadata": {},
   "source": [
    "Q1. Is it permissible to use several import statements to import the same module? What would the\n",
    "goal be? Can you think of a situation where it would be beneficial?"
   ]
  },
  {
   "cell_type": "code",
   "execution_count": null,
   "id": "b8c5a732",
   "metadata": {},
   "outputs": [],
   "source": [
    "Import in python is similar to #include header_file in C/C++. Python modules can get access to code from another module by importing the file/function using import. The import statement is the most common way of invoking the import machinery, \n",
    "but it is not the only way."
   ]
  },
  {
   "cell_type": "markdown",
   "id": "3b059c13",
   "metadata": {},
   "source": [
    "Q2. What are some of a module&#39;s characteristics? (Name at least one.)"
   ]
  },
  {
   "cell_type": "code",
   "execution_count": null,
   "id": "10a53670",
   "metadata": {},
   "outputs": [],
   "source": [
    "modules can define functions, classes or variables.a module can also include runnable codes.\n",
    "Reusability : Working with modules makes the code reusable.\n",
    "Simplicity: Module focuses on a small proportion of the problem, rather than focusing on the entire problem.\n",
    "Scoping: A separate namespace is defined by a module that helps to avoid collisions between identifiers."
   ]
  },
  {
   "cell_type": "markdown",
   "id": "65a0b058",
   "metadata": {},
   "source": [
    "Q3. Circular importing, such as when two modules import each other, can lead to dependencies and\n",
    "bugs that aren&#39;t visible. How can you go about creating a program that avoids mutual importing?"
   ]
  },
  {
   "cell_type": "code",
   "execution_count": null,
   "id": "51d2a898",
   "metadata": {},
   "outputs": [],
   "source": [
    "circular importing is a form of circular dependency that is created with the import statement\n",
    "when python imports a module, it checks the module registry to see if the module eas already \n",
    "imported. if the module was already registred python uses that existing object from cache.\n",
    "if the module was not registered, python finds the module intializes if necessary and \n",
    "execute in the new module namespace "
   ]
  },
  {
   "cell_type": "code",
   "execution_count": null,
   "id": "dfa1cb39",
   "metadata": {},
   "outputs": [],
   "source": [
    "# module1\n",
    "import module2\n",
    "\n",
    "def function1():\n",
    "    module2.function2()\n",
    "\n",
    "def function3():\n",
    "    print('Goodbye, World!')\n",
    "    \n",
    "# module2\n",
    "import module1\n",
    "\n",
    "def function2():\n",
    "    print('Hello, World!')\n",
    "    module1.function3()\n",
    "    \n",
    "# __init__.py\n",
    "\n",
    "import module1\n",
    "\n",
    "module1.function1()"
   ]
  },
  {
   "cell_type": "code",
   "execution_count": null,
   "id": "11010b5c",
   "metadata": {},
   "outputs": [],
   "source": [
    "In this example, when Python reaches import module2, it loads and executes it. However, module2 also calls for module1, which in turn defines function1().\n",
    "\n",
    "The problem occurs when function2() tries to call module1's function3(). Since module1 was loaded first, and in turn loaded module2 before it could reach function3(), that function isn't yet defined and throws an error when called:"
   ]
  },
  {
   "cell_type": "markdown",
   "id": "40281a10",
   "metadata": {},
   "source": [
    "Q4. Why is _ _all_ _ in Python?"
   ]
  },
  {
   "cell_type": "code",
   "execution_count": null,
   "id": "5a95dd5d",
   "metadata": {},
   "outputs": [],
   "source": [
    "   __all__ specifies all the modules that shall be loaded and imported into the current namespace when we use from package import."
   ]
  },
  {
   "cell_type": "markdown",
   "id": "77a8a1be",
   "metadata": {},
   "source": [
    "Q5. In what situation is it useful to refer to the _ _name_ _ attribute or the string &#39;_ _main_ _&#39;?"
   ]
  },
  {
   "cell_type": "code",
   "execution_count": null,
   "id": "50755498",
   "metadata": {},
   "outputs": [],
   "source": [
    "this __name__ is a special python variable. It gets its values depending on how we execute the containing script.\n",
    "__ is is used for interactive interpreter to store the result of the last evaluation. it is stored \n",
    "in builyin module."
   ]
  },
  {
   "cell_type": "code",
   "execution_count": null,
   "id": "f9a518ce",
   "metadata": {},
   "outputs": [],
   "source": [
    "Q6. What are some of the benefits of attaching a program counter to the RPN interpreter\n",
    "application, which interprets an RPN script line by line?"
   ]
  },
  {
   "cell_type": "code",
   "execution_count": null,
   "id": "4f855e9f",
   "metadata": {},
   "outputs": [],
   "source": [
    "Reverse Polish notation (also known as postfix notation) is one of multiple notations for representing mathematical expressions. Most of us are familiar with infix notation, but there are also the less popular prefix and postfix notations\n",
    "Infix: operators are “in” between the operands\n",
    "Prefix: operators are before (pre) the operands\n",
    "Postfix: operators are after (post) the operands\n",
    "Other differences include the significance of space as a separator (prefix and postfix are space sensitive while infix is not) and the way order of operations is expressed. The order of operation is inherent in the expression structure in prefix and postfix notations while the infix notation requires the use of parentheses to make the order of operations explicit."
   ]
  },
  {
   "cell_type": "markdown",
   "id": "a6e1b530",
   "metadata": {},
   "source": [
    "Q7. What are the minimum expressions or statements (or both) that you&#39;d need to render a basic\n",
    "programming language like RPN primitive but complete— that is, capable of carrying out any\n",
    "computerised task theoretically possible?"
   ]
  },
  {
   "cell_type": "code",
   "execution_count": null,
   "id": "1bd4c826",
   "metadata": {},
   "outputs": [],
   "source": [
    "Infix: operators are “in” between the operands\n",
    "Prefix: operators are before (pre) the operands\n",
    "Postfix: operators are after (post) the operands\n",
    "Other differences include the significance of space \n",
    "as a separator (prefix and postfix are space sensitive while infix is not)\n",
    "and the way order of operations is expressed.\n",
    "The order of operation is inherent in the expression structure \n",
    "in prefix and postfix notations while the infix notation requires \n",
    "the use of parentheses to make the order of operations explicit."
   ]
  }
 ],
 "metadata": {
  "kernelspec": {
   "display_name": "Python 3 (ipykernel)",
   "language": "python",
   "name": "python3"
  },
  "language_info": {
   "codemirror_mode": {
    "name": "ipython",
    "version": 3
   },
   "file_extension": ".py",
   "mimetype": "text/x-python",
   "name": "python",
   "nbconvert_exporter": "python",
   "pygments_lexer": "ipython3",
   "version": "3.9.7"
  }
 },
 "nbformat": 4,
 "nbformat_minor": 5
}
